{
 "cells": [
  {
   "cell_type": "code",
   "execution_count": 2,
   "metadata": {},
   "outputs": [
    {
     "name": "stdout",
     "output_type": "stream",
     "text": [
      "Précision sur l'ensemble de test par notre modèle :   84.31372549019608\n"
     ]
    }
   ],
   "source": [
    "import numpy as np\n",
    "import pandas as pd\n",
    "\n",
    "from sklearn.model_selection import train_test_split\n",
    "from sklearn.metrics import accuracy_score, classification_report, confusion_matrix\n",
    "\n",
    "import seaborn as sns\n",
    "from matplotlib import pyplot as plt\n",
    "\n",
    "# Notre algo logistic regression \n",
    "\n",
    "class LogisticReg() : \n",
    "    def __init__( self, learning_rate, iterations ) :         \n",
    "        self.learning_rate = learning_rate         \n",
    "        self.iterations = iterations \n",
    "           \n",
    "    def fit( self, X, Y ) :         \n",
    "        \n",
    "        self.m, self.n = X.shape         \n",
    "        \n",
    "        self.W = np.zeros( self.n )         \n",
    "        self.b = 0        \n",
    "        self.X = X         \n",
    "        self.Y = Y \n",
    "                  \n",
    "        for i in range( self.iterations ) :             \n",
    "            self.update_weights()\n",
    "        return self\n",
    "      \n",
    "    def update_weights( self ) :            \n",
    "        A = 1 / ( 1 + np.exp( - ( self.X.dot( self.W ) + self.b ) ) ) \n",
    "        \n",
    "        tmp = ( A - self.Y.T )         \n",
    "        tmp = np.reshape( tmp, self.m )         \n",
    "        dW = np.dot( self.X.T, tmp ) / self.m          \n",
    "        db = np.sum( tmp ) / self.m  \n",
    "        \n",
    "        self.W = self.W - self.learning_rate * dW     \n",
    "        self.b = self.b - self.learning_rate * db \n",
    "          \n",
    "        return self\n",
    "      \n",
    "    def predict( self, X ) :     \n",
    "        Z = 1 / ( 1 + np.exp( - ( X.dot( self.W ) + self.b ) ) )         \n",
    "        Y = np.where( Z > 0.5, 1, 0 ) \n",
    "        return Y,Z\n",
    "    \n",
    "##################################\n",
    "\n",
    "# Importer le dataset\n",
    "dataset = pd.read_csv('TravelInsurancePrediction.csv')\n",
    "\n",
    "# Data cleaning\n",
    "dataset.drop_duplicates(inplace=True)\n",
    "#Suppression de User ID\n",
    "dataset.drop(['Unnamed: 0'],axis='columns',inplace=True)\n",
    "#dataset.drop(['AnnualIncome'],axis='columns',inplace=True)\n",
    "# Transformer la variable EmploymentType\n",
    "dataset.EmploymentType = dataset.EmploymentType.map({'Government Sector': 1, 'Private Sector/Self Employed': 0})\n",
    "# Transformer la variable GraduateOrNot\n",
    "dataset.GraduateOrNot = dataset.GraduateOrNot.map({'Yes': 1, 'No': 0})\n",
    "# Transformer la variable FrequentFlyer\n",
    "dataset.FrequentFlyer = dataset.FrequentFlyer.map({'Yes': 1, 'No': 0})\n",
    "# Transformer la variable EverTravelledAbroad\n",
    "dataset.EverTravelledAbroad = dataset.EverTravelledAbroad.map({'Yes': 1, 'No': 0})\n",
    "\n",
    "\n",
    "# Transformer la variable AnnualIncome\n",
    "dataset['AnnualIncome']=dataset['AnnualIncome']//1000\n",
    "\n",
    "\n",
    "X = dataset.iloc[:,:-1].values \n",
    "Y = dataset.iloc[:,-1:].values\n",
    "\n",
    "# 1/3 de donnees pour test\n",
    "X_train, X_test, Y_train, Y_test = train_test_split( X, Y, test_size = 1/3, random_state = 0 )\n",
    "\n",
    "# notre model\n",
    "model = LogisticReg( learning_rate = 0.001, iterations = 10000 )\n",
    "\n",
    "# train\n",
    "model.fit( X_train, Y_train )\n",
    "\n",
    "# predict\n",
    "Y_pred,Y_pred100 = model.predict( X_test )\n",
    "\n",
    "#Evaluating on Test Set\n",
    "test_acc = accuracy_score(Y_test, Y_pred)\n",
    "\n",
    "\n",
    "#manuelle\n",
    "correctly_classified = 0 \n",
    "count = 0    \n",
    "for count in range( np.size( Y_pred ) ) :\n",
    "    if Y_test[count] == Y_pred[count] :\n",
    "        correctly_classified = correctly_classified + 1\n",
    "    count = count + 1\n",
    "print( \"Précision sur l'ensemble de test par notre modèle :  \", ( correctly_classified / count ) * 100 )\n"
   ]
  },
  {
   "cell_type": "code",
   "execution_count": 25,
   "metadata": {},
   "outputs": [
    {
     "name": "stdout",
     "output_type": "stream",
     "text": [
      "calcule 0.9999995208406443 decision 1 \n"
     ]
    }
   ],
   "source": [
    "#input\n",
    "a=np.array([[28,1,1,900,6,1,1,0]])\n",
    "b,b100=model.predict( a )\n",
    "print(\"calcule {} decision {} \".format(b100[0],b[0]))"
   ]
  }
 ],
 "metadata": {
  "kernelspec": {
   "display_name": "Python 3 (ipykernel)",
   "language": "python",
   "name": "python3"
  },
  "language_info": {
   "codemirror_mode": {
    "name": "ipython",
    "version": 3
   },
   "file_extension": ".py",
   "mimetype": "text/x-python",
   "name": "python",
   "nbconvert_exporter": "python",
   "pygments_lexer": "ipython3",
   "version": "3.9.12"
  }
 },
 "nbformat": 4,
 "nbformat_minor": 4
}
